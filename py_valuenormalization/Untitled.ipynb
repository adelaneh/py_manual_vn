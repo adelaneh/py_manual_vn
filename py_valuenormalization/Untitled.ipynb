{
 "cells": [
  {
   "cell_type": "code",
   "execution_count": 35,
   "metadata": {
    "collapsed": false
   },
   "outputs": [],
   "source": [
    "import py_valuenormalization as vn\n"
   ]
  },
  {
   "cell_type": "code",
   "execution_count": 36,
   "metadata": {
    "collapsed": true
   },
   "outputs": [],
   "source": [
    "import numpy as np"
   ]
  },
  {
   "cell_type": "code",
   "execution_count": 37,
   "metadata": {
    "collapsed": false
   },
   "outputs": [],
   "source": [
    "vals6 = ['University of wisc madison', 'Michigan st', 'Michigan ann arbor', 'UW Madison', 'UM ann arbor', 'UW', 'UNL']"
   ]
  },
  {
   "cell_type": "code",
   "execution_count": 38,
   "metadata": {
    "collapsed": false
   },
   "outputs": [],
   "source": [
    "hac = vn.HierarchicalClustering(vals6)"
   ]
  },
  {
   "cell_type": "code",
   "execution_count": 66,
   "metadata": {
    "collapsed": false
   },
   "outputs": [
    {
     "data": {
      "text/plain": [
       "{frozenset({'UW', 'University of wisc madison'}): 0.9615384615384616,\n",
       " frozenset({'UM ann arbor', 'UW'}): 0.9166666666666666,\n",
       " frozenset({'UM ann arbor', 'University of wisc madison'}): 0.8076923076923077,\n",
       " frozenset({'UM ann arbor', 'UW Madison'}): 0.75,\n",
       " frozenset({'Michigan ann arbor', 'UNL'}): 1.0,\n",
       " frozenset({'UW', 'UW Madison'}): 0.8,\n",
       " frozenset({'Michigan st', 'UW'}): 1.0,\n",
       " frozenset({'Michigan ann arbor',\n",
       "            'University of wisc madison'}): 0.7692307692307693,\n",
       " frozenset({'UNL', 'UW Madison'}): 0.9,\n",
       " frozenset({'UNL', 'University of wisc madison'}): 0.9615384615384616,\n",
       " frozenset({'Michigan st', 'UW Madison'}): 0.9090909090909091,\n",
       " frozenset({'UNL', 'UW'}): 0.6666666666666666,\n",
       " frozenset({'UM ann arbor', 'UNL'}): 0.9166666666666666,\n",
       " frozenset({'Michigan st', 'University of wisc madison'}): 0.8461538461538461,\n",
       " frozenset({'Michigan ann arbor', 'UW Madison'}): 0.8888888888888888,\n",
       " frozenset({'Michigan st', 'UM ann arbor'}): 0.8333333333333334,\n",
       " frozenset({'Michigan ann arbor', 'Michigan st'}): 0.5,\n",
       " frozenset({'Michigan ann arbor', 'UM ann arbor'}): 0.4444444444444444,\n",
       " frozenset({'UW Madison', 'University of wisc madison'}): 0.6923076923076923,\n",
       " frozenset({'Michigan st', 'UNL'}): 1.0,\n",
       " frozenset({'Michigan ann arbor', 'UW'}): 1.0}"
      ]
     },
     "execution_count": 66,
     "metadata": {},
     "output_type": "execute_result"
    }
   ],
   "source": [
    "dists = hac.calc_dists('Levenshtein')\n",
    "dists"
   ]
  },
  {
   "cell_type": "code",
   "execution_count": 85,
   "metadata": {
    "collapsed": true
   },
   "outputs": [],
   "source": [
    "dend = hac.create_dendrogram(sim_measure = 'Levenshtein', linkage = 'average', precalc_dists = dists, max_clust_size = 2)"
   ]
  },
  {
   "cell_type": "code",
   "execution_count": 86,
   "metadata": {
    "collapsed": false
   },
   "outputs": [
    {
     "data": {
      "text/plain": [
       "[((['UM ann arbor'], ['Michigan ann arbor']), 0.4444444444444444),\n",
       " ((['UW'], ['UNL']), 0.6666666666666666),\n",
       " ((['UW Madison'], ['University of wisc madison']), 0.6923076923076923)]"
      ]
     },
     "execution_count": 86,
     "metadata": {},
     "output_type": "execute_result"
    }
   ],
   "source": [
    "dend"
   ]
  },
  {
   "cell_type": "code",
   "execution_count": 89,
   "metadata": {
    "collapsed": false
   },
   "outputs": [],
   "source": [
    "val_to_clustid_map = hac.lambdahac_dendrogram(dend = dend, thr = 0.7)"
   ]
  },
  {
   "cell_type": "code",
   "execution_count": 90,
   "metadata": {
    "collapsed": false
   },
   "outputs": [
    {
     "data": {
      "text/plain": [
       "{'Michigan ann arbor': 5,\n",
       " 'Michigan st': 6,\n",
       " 'UM ann arbor': 5,\n",
       " 'UNL': 2,\n",
       " 'UW': 2,\n",
       " 'UW Madison': 1,\n",
       " 'University of wisc madison': 1}"
      ]
     },
     "execution_count": 90,
     "metadata": {},
     "output_type": "execute_result"
    }
   ],
   "source": [
    "val_to_clustid_map"
   ]
  },
  {
   "cell_type": "code",
   "execution_count": 71,
   "metadata": {
    "collapsed": true
   },
   "outputs": [],
   "source": [
    "clust = hac.cluster(sim_measure = '3gram Jaccard', linkage = 'average', thr = 0.5)\n",
    "\n",
    "        "
   ]
  },
  {
   "cell_type": "code",
   "execution_count": 72,
   "metadata": {
    "collapsed": false
   },
   "outputs": [
    {
     "data": {
      "text/plain": [
       "{'John': ['John', 'Johnson'],\n",
       " 'Raghu': ['Raghu'],\n",
       " 'Ram': ['Ram'],\n",
       " 'Sorensen': ['Sorensen', 'Sorenson']}"
      ]
     },
     "execution_count": 72,
     "metadata": {},
     "output_type": "execute_result"
    }
   ],
   "source": [
    "clust"
   ]
  },
  {
   "cell_type": "code",
   "execution_count": null,
   "metadata": {
    "collapsed": true
   },
   "outputs": [],
   "source": []
  }
 ],
 "metadata": {
  "kernelspec": {
   "display_name": "Python 2",
   "language": "python",
   "name": "python2"
  },
  "language_info": {
   "codemirror_mode": {
    "name": "ipython",
    "version": 2
   },
   "file_extension": ".py",
   "mimetype": "text/x-python",
   "name": "python",
   "nbconvert_exporter": "python",
   "pygments_lexer": "ipython2",
   "version": "2.7.13"
  }
 },
 "nbformat": 4,
 "nbformat_minor": 2
}
