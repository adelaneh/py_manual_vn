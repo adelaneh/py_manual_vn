{
 "cells": [
  {
   "cell_type": "code",
   "execution_count": 1,
   "metadata": {
    "collapsed": false
   },
   "outputs": [],
   "source": [
    "import py_valuenormalization as vn\n"
   ]
  },
  {
   "cell_type": "code",
   "execution_count": 2,
   "metadata": {
    "collapsed": true
   },
   "outputs": [],
   "source": [
    "import numpy as np\n",
    "import PyQt4 as pyq"
   ]
  },
  {
   "cell_type": "code",
   "execution_count": 3,
   "metadata": {
    "collapsed": false
   },
   "outputs": [],
   "source": [
    "vals = ['University of wisc madison', 'Michigan st', 'Michigan ann arbor', 'UW Madison', 'UM ann arbor', 'UW', 'UNL']"
   ]
  },
  {
   "cell_type": "code",
   "execution_count": 4,
   "metadata": {
    "collapsed": false
   },
   "outputs": [],
   "source": [
    "cm = vn.Utils.get_default_cost_model()\n",
    "hybhac = vn.HybridClustering(vals, cm)\n",
    "(clusts, mcl) = hybhac.cluster()"
   ]
  },
  {
   "cell_type": "code",
   "execution_count": 5,
   "metadata": {
    "collapsed": false
   },
   "outputs": [
    {
     "data": {
      "text/plain": [
       "{'Michigan ann arbor': ['Michigan ann arbor', 'Michigan st', 'UM ann arbor'],\n",
       " 'UNL': ['UNL'],\n",
       " 'UW': ['UW'],\n",
       " 'UW Madison': ['UW Madison'],\n",
       " 'University of wisc madison': ['University of wisc madison']}"
      ]
     },
     "execution_count": 5,
     "metadata": {},
     "output_type": "execute_result"
    }
   ],
   "source": [
    "clusts"
   ]
  },
  {
   "cell_type": "code",
   "execution_count": 85,
   "metadata": {
    "collapsed": true
   },
   "outputs": [],
   "source": [
    "dend = hac.create_dendrogram(sim_measure = 'Levenshtein', linkage = 'average', precalc_dists = dists, max_clust_size = 2)"
   ]
  },
  {
   "cell_type": "code",
   "execution_count": 86,
   "metadata": {
    "collapsed": false
   },
   "outputs": [
    {
     "data": {
      "text/plain": [
       "[((['UM ann arbor'], ['Michigan ann arbor']), 0.4444444444444444),\n",
       " ((['UW'], ['UNL']), 0.6666666666666666),\n",
       " ((['UW Madison'], ['University of wisc madison']), 0.6923076923076923)]"
      ]
     },
     "execution_count": 86,
     "metadata": {},
     "output_type": "execute_result"
    }
   ],
   "source": [
    "dend"
   ]
  },
  {
   "cell_type": "code",
   "execution_count": 89,
   "metadata": {
    "collapsed": false
   },
   "outputs": [],
   "source": [
    "val_to_clustid_map = hac.lambdahac_dendrogram(dend = dend, thr = 0.7)"
   ]
  },
  {
   "cell_type": "code",
   "execution_count": 90,
   "metadata": {
    "collapsed": false
   },
   "outputs": [
    {
     "data": {
      "text/plain": [
       "{'Michigan ann arbor': 5,\n",
       " 'Michigan st': 6,\n",
       " 'UM ann arbor': 5,\n",
       " 'UNL': 2,\n",
       " 'UW': 2,\n",
       " 'UW Madison': 1,\n",
       " 'University of wisc madison': 1}"
      ]
     },
     "execution_count": 90,
     "metadata": {},
     "output_type": "execute_result"
    }
   ],
   "source": [
    "val_to_clustid_map"
   ]
  },
  {
   "cell_type": "code",
   "execution_count": 71,
   "metadata": {
    "collapsed": true
   },
   "outputs": [],
   "source": [
    "clust = hac.cluster(sim_measure = '3gram Jaccard', linkage = 'average', thr = 0.5)\n",
    "\n",
    "        "
   ]
  },
  {
   "cell_type": "code",
   "execution_count": 72,
   "metadata": {
    "collapsed": false
   },
   "outputs": [
    {
     "data": {
      "text/plain": [
       "{'John': ['John', 'Johnson'],\n",
       " 'Raghu': ['Raghu'],\n",
       " 'Ram': ['Ram'],\n",
       " 'Sorensen': ['Sorensen', 'Sorenson']}"
      ]
     },
     "execution_count": 72,
     "metadata": {},
     "output_type": "execute_result"
    }
   ],
   "source": [
    "clust"
   ]
  },
  {
   "cell_type": "code",
   "execution_count": null,
   "metadata": {
    "collapsed": true
   },
   "outputs": [],
   "source": []
  }
 ],
 "metadata": {
  "kernelspec": {
   "display_name": "Python 2",
   "language": "python",
   "name": "python2"
  },
  "language_info": {
   "codemirror_mode": {
    "name": "ipython",
    "version": 2
   },
   "file_extension": ".py",
   "mimetype": "text/x-python",
   "name": "python",
   "nbconvert_exporter": "python",
   "pygments_lexer": "ipython2",
   "version": "2.7.13"
  }
 },
 "nbformat": 4,
 "nbformat_minor": 2
}
