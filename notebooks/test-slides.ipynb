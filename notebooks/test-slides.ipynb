{
 "cells": [
  {
   "cell_type": "markdown",
   "metadata": {
    "nbpresent": {
     "id": "0711290d-a53d-4dbf-a5d2-b1d898b20c9e"
    },
    "slideshow": {
     "slide_type": "slide"
    }
   },
   "source": [
    "<h1 align=\"center\">Value Normalization: An Introduction</h1>\n",
    "<h3 align=\"center\">Adel Ardalan</h3>\n",
    "<h4 align=\"center\">University of Wisconsin-Madison</h4>"
   ]
  },
  {
   "cell_type": "markdown",
   "metadata": {
    "nbpresent": {
     "id": "21b3c6d2-6a1e-4d22-95ee-429b10c691d5"
    },
    "slideshow": {
     "slide_type": "slide"
    }
   },
   "source": [
    "# What is value normalization?\n",
    "\n",
    "* It is a step in the data cleaning procedure."
   ]
  },
  {
   "cell_type": "markdown",
   "metadata": {
    "slideshow": {
     "slide_type": "fragment"
    }
   },
   "source": [
    "* Given a set of input values $V = \\{v_1, \\dots, v_m\\}$, we want to group them into subsets $\\{c_1, \\dots, c_n\\} = C$ such that:\n",
    "    - $\\bigcup\\limits_{j=1}^{n} c_j = V$ and for each $i \\neq j$, $c_i \\cap c_j = \\emptyset$ (i.e. $C$ is a partitioning of $V$)\n",
    "    - all the values in each $c_i$ refer to the same real-world entity and \n",
    "    - no two distinct groups $c_i$ and $c_j$ with $i\\neq j$ refer to the same entity.\n"
   ]
  },
  {
   "cell_type": "markdown",
   "metadata": {
    "nbpresent": {
     "id": "90b822cd-bf0f-41d8-aea9-325ab6aea841"
    },
    "slideshow": {
     "slide_type": "subslide"
    }
   },
   "source": [
    "# Example\n",
    "\n",
    "* Take the following list of values:\n",
    "<img src=\"files/bigtensample.png\">"
   ]
  },
  {
   "cell_type": "markdown",
   "metadata": {
    "slideshow": {
     "slide_type": "subslide"
    }
   },
   "source": [
    "# Example (Cont.)\n",
    "\n",
    "* The correct clustering of these values would be:\n",
    "<img src=\"files/bigtensamplegoldenclusters.png\">"
   ]
  },
  {
   "cell_type": "markdown",
   "metadata": {
    "slideshow": {
     "slide_type": "slide"
    }
   },
   "source": [
    "# Approaches to Value Normalization\n",
    "\n",
    "1. Manual value normalization\n",
    "2. Clustering-based value normalization"
   ]
  },
  {
   "cell_type": "markdown",
   "metadata": {
    "slideshow": {
     "slide_type": "subslide"
    }
   },
   "source": [
    "# Manual Value Normalization\n",
    "\n",
    "* Consists of two main steps:\n",
    "    1. Local merging\n",
    "    2. Global merging"
   ]
  },
  {
   "cell_type": "markdown",
   "metadata": {
    "slideshow": {
     "slide_type": "subslide"
    }
   },
   "source": [
    "# Local Merging Example\n",
    "\n",
    "<img src=\"files/bigtensample.png\">"
   ]
  },
  {
   "cell_type": "markdown",
   "metadata": {
    "slideshow": {
     "slide_type": "subslide"
    }
   },
   "source": [
    "# Local Merging Example (Cont.)\n",
    "\n",
    "<img src=\"files/bigtensamplelocalmerge.png\">"
   ]
  },
  {
   "cell_type": "markdown",
   "metadata": {
    "slideshow": {
     "slide_type": "subslide"
    }
   },
   "source": [
    "# Global Merging Example\n",
    "\n",
    "<img src=\"files/bigtensamplegoldenclusters.png\">"
   ]
  },
  {
   "cell_type": "markdown",
   "metadata": {
    "slideshow": {
     "slide_type": "subslide"
    }
   },
   "source": [
    "# Clustering-based Value Normalization\n",
    "\n",
    "* Consists of two main steps:\n",
    "    1. Splitting\n",
    "    2. Merging\n",
    "        1. Local merging\n",
    "        2. Global merging"
   ]
  },
  {
   "cell_type": "markdown",
   "metadata": {
    "slideshow": {
     "slide_type": "slide"
    }
   },
   "source": [
    "# Demo Time!"
   ]
  }
 ],
 "metadata": {
  "celltoolbar": "Slideshow",
  "hide_input": false,
  "kernelspec": {
   "display_name": "Python [Root]",
   "language": "python",
   "name": "Python [Root]"
  },
  "language_info": {
   "codemirror_mode": {
    "name": "ipython",
    "version": 2
   },
   "file_extension": ".py",
   "mimetype": "text/x-python",
   "name": "python",
   "nbconvert_exporter": "python",
   "pygments_lexer": "ipython2",
   "version": "2.7.12"
  },
  "nbpresent": {
   "slides": {
    "1db6bdc1-cf2b-4b0a-8735-0e3ca857861e": {
     "id": "1db6bdc1-cf2b-4b0a-8735-0e3ca857861e",
     "layout": "grid",
     "prev": null,
     "regions": {
      "77317f72-76fc-43a3-a2e8-99bb52c3fa56": {
       "attrs": {
        "height": 1,
        "pad": 0.01,
        "treemap:weight": 1,
        "width": 1,
        "x": 0,
        "y": 0
       },
       "content": {
        "cell": "0711290d-a53d-4dbf-a5d2-b1d898b20c9e",
        "part": "source"
       },
       "id": "77317f72-76fc-43a3-a2e8-99bb52c3fa56"
      }
     }
    },
    "9516a4f7-b89c-43b0-9c23-7fe5b17bb17f": {
     "id": "9516a4f7-b89c-43b0-9c23-7fe5b17bb17f",
     "prev": "1db6bdc1-cf2b-4b0a-8735-0e3ca857861e",
     "regions": {
      "29ce4f8b-8332-4e6d-97f6-4b941be0dbe1": {
       "attrs": {
        "height": 1,
        "width": 1,
        "x": 0,
        "y": 0
       },
       "content": {
        "cell": "21b3c6d2-6a1e-4d22-95ee-429b10c691d5",
        "part": "source"
       },
       "id": "29ce4f8b-8332-4e6d-97f6-4b941be0dbe1"
      }
     }
    },
    "cb78bf2d-a826-4a76-a53c-bec80ad42d5c": {
     "id": "cb78bf2d-a826-4a76-a53c-bec80ad42d5c",
     "prev": "9516a4f7-b89c-43b0-9c23-7fe5b17bb17f",
     "regions": {
      "397d5a2c-f25a-4822-9094-526936647778": {
       "attrs": {
        "height": 0.8000000000000002,
        "width": 0.45,
        "x": 0.05,
        "y": 0.10000000000000002
       },
       "content": {
        "cell": "90b822cd-bf0f-41d8-aea9-325ab6aea841",
        "part": "source"
       },
       "id": "397d5a2c-f25a-4822-9094-526936647778"
      },
      "ea03378a-0522-4d85-8fac-3485c49d00a4": {
       "attrs": {
        "height": 0.8000000000000002,
        "width": 0.45,
        "x": 0.5,
        "y": 0.10000000000000002
       },
       "content": {
        "cell": "0e0e77ab-9e49-4ce0-8ff6-6f4a74af6a4d",
        "part": "source"
       },
       "id": "ea03378a-0522-4d85-8fac-3485c49d00a4"
      }
     }
    }
   },
   "themes": {
    "default": "81ba2742-f57f-4328-b61f-970e3776ab51",
    "theme": {}
   }
  }
 },
 "nbformat": 4,
 "nbformat_minor": 0
}
