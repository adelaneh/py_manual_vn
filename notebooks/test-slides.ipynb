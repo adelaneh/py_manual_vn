{
 "cells": [
  {
   "cell_type": "markdown",
   "metadata": {
    "nbpresent": {
     "id": "0711290d-a53d-4dbf-a5d2-b1d898b20c9e"
    },
    "slideshow": {
     "slide_type": "slide"
    }
   },
   "source": [
    "<h1 align=\"center\">Value Normalization: An Introduction</h1>\n",
    "<h2 align=\"center\">Adel Ardalan</h2>\n",
    "<h3 align=\"center\">With Walter Cai and AnHai Doan</h3>\n",
    "<h4 align=\"center\">University of Wisconsin-Madison</h4>"
   ]
  },
  {
   "cell_type": "markdown",
   "metadata": {
    "slideshow": {
     "slide_type": "slide"
    }
   },
   "source": [
    "# Motivation\n",
    "\n",
    "(Attribute) value normalization is one of the important steps in the data cleaning pipelines."
   ]
  },
  {
   "cell_type": "markdown",
   "metadata": {
    "slideshow": {
     "slide_type": "fragment"
    }
   },
   "source": [
    "Suppose you are given the following table to analyze the sales of different products:\n",
    "\n",
    "| Title | Brand | Color | Price | ... |\n",
    "|---------------|---------------|---------------|---------------|-----|\n",
    "| Sony 55-inch Smart LED TV | Sony | black | 799.99 | ... |\n",
    "| VIZIO M50 LED TV | VIZIO | Charcoal | 849.99 | ... |\n",
    "| Panasonic VIERA Plasma | Panasonic | BLK | 849.99 | ... |\n",
    "| Samsung 32\" HDTV | Samsung | Silver | 729.99 | ... |\n",
    "| ... | ... | ... | ... | ... |"
   ]
  },
  {
   "cell_type": "markdown",
   "metadata": {
    "slideshow": {
     "slide_type": "subslide"
    }
   },
   "source": [
    "# Motivation (Cont.)\n",
    "\n",
    "Multiple values in a single column might refer to the same real-world entity.\n",
    "  - In the table above, *black*, *Charcoal* and *BLK* refer to the same color. "
   ]
  },
  {
   "cell_type": "markdown",
   "metadata": {
    "slideshow": {
     "slide_type": "fragment"
    }
   },
   "source": [
    "This might hurt the effectiveness of various data analysis tasks.\n",
    "  - For example if you're looking for the sales of all black TVs, you might not get the results of items with colors  *Charcoal* or *BLK*."
   ]
  },
  {
   "cell_type": "markdown",
   "metadata": {
    "slideshow": {
     "slide_type": "fragment"
    }
   },
   "source": [
    "Furthermore as more data comes in, we want to detect and resolve the above problem for attribute values of the new items."
   ]
  },
  {
   "cell_type": "markdown",
   "metadata": {
    "slideshow": {
     "slide_type": "subslide"
    }
   },
   "source": [
    "# Motivation (Cont.)\n",
    "\n",
    "To deal with this issue we *normalize* the attribute values. \n",
    "* First, for each value of the target attribute, we create a *normalization rule*. \n",
    "  * For the color attribute of our example table, we have the following normalization rules: \n",
    "    * Charcoal $\\rightarrow$ Black\n",
    "    * BLK $\\rightarrow$ Black\n",
    "    * black $\\rightarrow$ Black\n",
    "    * Silver $\\rightarrow$ Silver\n",
    "  * Each value on the left-hand-side of the the above rules is a value of the target attribute (here, the color attribute).\n",
    "  * On the right-hand-side of each rule is the *canonical value* associated with the value on the LHS."
   ]
  },
  {
   "cell_type": "markdown",
   "metadata": {
    "slideshow": {
     "slide_type": "fragment"
    }
   },
   "source": [
    "* Then we go through the rows of the table one by one and when the value of the target attribute matches the LHS of one of the rules, we replace it with the RHS of that rule."
   ]
  },
  {
   "cell_type": "markdown",
   "metadata": {
    "slideshow": {
     "slide_type": "subslide"
    }
   },
   "source": [
    "# Motivation (Cont.)\n",
    "\n",
    "The normalized table would look like the following:\n",
    "\n",
    "| Title | Brand | Color | Price | ... |\n",
    "|---------------|---------------|---------------|---------------|-----|\n",
    "| Sony 55-inch Smart LED TV | Sony | Black | 799.99 | ... |\n",
    "| VIZIO M50 LED TV | VIZIO | Black | 849.99 | ... |\n",
    "| Panasonic VIERA Plasma | Panasonic | Black | 849.99 | ... |\n",
    "| Samsung 32\" HDTV | Samsung | Silver | 729.99 | ... |\n",
    "| ... | ... | ... | ... | ... |"
   ]
  },
  {
   "cell_type": "markdown",
   "metadata": {
    "nbpresent": {
     "id": "21b3c6d2-6a1e-4d22-95ee-429b10c691d5"
    },
    "slideshow": {
     "slide_type": "slide"
    }
   },
   "source": [
    "# Value Normalization Problem Definition\n",
    "\n",
    "Given a set of input values $V = \\{v_1, \\dots, v_m\\}$, we want to create a set of normalization rules $\\mathcal{R} = \\{v_j \\rightarrow \\tilde{v_j} | j = 1, \\dots, m\\}$ such that:\n",
    "  - $\\tilde{v_j}$ is the canonical value of $v_j$ and \n",
    "  - $\\tilde{v_j} = \\tilde{v_k}$ if and only if $v_j$ and $v_k$ refer to the same real-world entity."
   ]
  },
  {
   "cell_type": "markdown",
   "metadata": {
    "slideshow": {
     "slide_type": "subslide"
    }
   },
   "source": [
    "# Need Human in the Loop\n",
    "\n",
    "We can try to solve the above problem using synonym discovery methods."
   ]
  },
  {
   "cell_type": "markdown",
   "metadata": {
    "slideshow": {
     "slide_type": "fragment"
    }
   },
   "source": [
    "However we argue that fully automated methods are often inaccurate and thus in real-world scenarios, a human needs to come in and clean up the results of such methods."
   ]
  },
  {
   "cell_type": "markdown",
   "metadata": {
    "slideshow": {
     "slide_type": "fragment"
    }
   },
   "source": [
    "Hence the bottleneck of the real-world value normalization tasks would be the human effort."
   ]
  },
  {
   "cell_type": "markdown",
   "metadata": {
    "slideshow": {
     "slide_type": "fragment"
    }
   },
   "source": [
    "We thus aim at reducing user effort when normalizing values."
   ]
  },
  {
   "cell_type": "markdown",
   "metadata": {
    "slideshow": {
     "slide_type": "subslide"
    }
   },
   "source": [
    "# Minimum-Effort Value Normalization Problem Definition\n",
    "\n",
    "Suppose a user $u$ wants to normalize a set of input values $V = \\{v_1, \\dots, v_m\\}$. We want to create a normalization approach for $u$ to normalize $V$ such that:\n",
    "  1. the precision and the recall of the normalization results are 1.0 and\n",
    "  2. the effort spent by $u$ during the normalization process is minimized."
   ]
  },
  {
   "cell_type": "markdown",
   "metadata": {
    "slideshow": {
     "slide_type": "slide"
    }
   },
   "source": [
    "# Approaches to Value Normalization\n",
    "\n",
    "1. Manual value normalization\n",
    "2. Clustering-based value normalization"
   ]
  },
  {
   "cell_type": "markdown",
   "metadata": {
    "slideshow": {
     "slide_type": "subslide"
    }
   },
   "source": [
    "# Manual Value Normalization\n",
    "\n",
    "**Naive approach**: a user goes through the values one by one and creates a normalization rule per value.\n",
    "* Advantage:\n",
    "  * Easy to understand\n",
    "* Disadvantage: \n",
    "  * Extremely slow for even a few tens of values"
   ]
  },
  {
   "cell_type": "markdown",
   "metadata": {
    "slideshow": {
     "slide_type": "fragment"
    }
   },
   "source": [
    "**Better approach**: \n",
    "1. First the user groups the values into clusters of synonyms\n",
    "2. Then she labels each group with the appropriate canonical value\n",
    "3. Finally we create a rule per value which maps it to the label of the cluster is belongs to."
   ]
  },
  {
   "cell_type": "markdown",
   "metadata": {
    "slideshow": {
     "slide_type": "fragment"
    }
   },
   "source": [
    "**Note**: For the rest of our discussion we ignore the labeling part since it is the same across all the normalization methods we study."
   ]
  },
  {
   "cell_type": "markdown",
   "metadata": {
    "slideshow": {
     "slide_type": "subslide"
    }
   },
   "source": [
    "# Manual Value Normalization\n",
    "A reasonable manual normalization approach consists of two main steps:\n",
    "  1. Local-merging (short-term memory size = 3)\n",
    "<div align=\"middle\"><img style=\"width: 60%;\" src=\"files/LocalMergeExample.png\"></div>"
   ]
  },
  {
   "cell_type": "markdown",
   "metadata": {
    "slideshow": {
     "slide_type": "subslide"
    }
   },
   "source": [
    "# Manual Value Normalization (Cont.)\n",
    "A reasonable manual normalization approach consists of two main steps:\n",
    "  1. Local-merging\n",
    "  2. Global-merging\n",
    "<div align=\"middle\"><img style=\"width: 60%;\" src=\"files/GlobalMergeExample.png\"></div>"
   ]
  },
  {
   "cell_type": "markdown",
   "metadata": {
    "slideshow": {
     "slide_type": "subslide"
    }
   },
   "source": [
    "# Manual Value Normalization (Cont.)\n",
    "\n",
    "Normalization rules:\n",
    "<div align=\"middle\"><img style=\"width: 100%;\" src=\"files/NormRulesExample.png\"></div>"
   ]
  },
  {
   "cell_type": "markdown",
   "metadata": {
    "slideshow": {
     "slide_type": "subslide"
    }
   },
   "source": [
    "# Manual Value Normalization (Cont.)\n",
    "\n",
    "* Advantages:\n",
    "  * Fairly simple to understand\n",
    "* Disadvantage:\n",
    "  * Still slow"
   ]
  },
  {
   "cell_type": "markdown",
   "metadata": {
    "slideshow": {
     "slide_type": "subslide"
    }
   },
   "source": [
    "# Clustering-Based Value Normalization\n",
    "\n",
    "* First we apply a clustering algorithm, such as hierarchical agglomerative clustering (HAC), to the attribute values."
   ]
  },
  {
   "cell_type": "markdown",
   "metadata": {
    "slideshow": {
     "slide_type": "fragment"
    }
   },
   "source": [
    "<div align=\"middle\"><img style=\"width: 30%; align: middle;\" src=\"files/BadClusteringExample.png\"></div>"
   ]
  },
  {
   "cell_type": "markdown",
   "metadata": {
    "slideshow": {
     "slide_type": "subslide"
    }
   },
   "source": [
    "# Clustering-Based Value Normalization (Cont.)\n",
    "\n",
    "* Then the user goes through the resulting clusters one by one and for each cluster she splits the cluster if it is not pure; i.e. if it contains values referring to multiple entities."
   ]
  },
  {
   "cell_type": "markdown",
   "metadata": {
    "slideshow": {
     "slide_type": "fragment"
    }
   },
   "source": [
    "<div align=\"middle\"><img style=\"width: 30%; align: middle;\" src=\"files/PureClusteringExample.png\"></div>"
   ]
  },
  {
   "cell_type": "markdown",
   "metadata": {
    "slideshow": {
     "slide_type": "fragment"
    }
   },
   "source": [
    "* Finally she executes the local-merging and global-merging steps (as described before) on the clusters from the previous step."
   ]
  },
  {
   "cell_type": "markdown",
   "metadata": {
    "slideshow": {
     "slide_type": "subslide"
    }
   },
   "source": [
    "# Clustering-Based Value Normalization (Cont.)\n",
    "\n",
    "If the clusters generated by the clustering algorithm are mostly clean, then clustering-based normalization would significantly reduce user effort."
   ]
  },
  {
   "cell_type": "markdown",
   "metadata": {
    "slideshow": {
     "slide_type": "fragment"
    }
   },
   "source": [
    "However in reality, clustering algorithms are far from perfect:\n",
    "* They often produce big, messy clusters.\n",
    "* These clusters are very hard to understand and clean up.\n",
    "* Real-world analysts are known to fall back to manually normalizing values after having a hard time cleaning up clustering algorithm results."
   ]
  },
  {
   "cell_type": "markdown",
   "metadata": {
    "slideshow": {
     "slide_type": "slide"
    }
   },
   "source": [
    "# Our Key Idea\n",
    "\n",
    "* Stop the clustering algorithm before it starts producing large and messy clusters"
   ]
  },
  {
   "cell_type": "markdown",
   "metadata": {
    "slideshow": {
     "slide_type": "fragment"
    }
   },
   "source": [
    "* We can do this by limiting the size of the clusters generated by the clustering algorithm."
   ]
  },
  {
   "cell_type": "markdown",
   "metadata": {
    "slideshow": {
     "slide_type": "fragment"
    }
   },
   "source": [
    "* But what should be the maximum cluster size?"
   ]
  },
  {
   "cell_type": "markdown",
   "metadata": {
    "slideshow": {
     "slide_type": "subslide"
    }
   },
   "source": [
    "# Hybrid Machine-Human Value Normalization\n",
    "\n",
    "* First for each possible value of the maximum cluster size $1 \\leq \\lambda \\leq m$ we create *a normalization plan* which consists of two parts:\n",
    "  1. *Machine part*: we run a modified HAC algorithm, called $\\lambda$HAC, which limits the size of the output clusters by $\\lambda$. The standard HAC parameters are set to default values.\n",
    "  2. *Human part*: the user cleans up the results of the machine part by first splitting the impure clusters and then executing the two-stage manual normalization method, as described before. We develop a pseudo-code of the human part as a guideline for the user to clean up the results of the machine part."
   ]
  },
  {
   "cell_type": "markdown",
   "metadata": {
    "slideshow": {
     "slide_type": "subslide"
    }
   },
   "source": [
    "# Hybrid Machine-Human Value Normalization (Cont.)\n",
    "\n",
    "* We then develop a cost approximation method to approximate the effort user spends cleaning up the results of the machine part of each plan following the above pseudo-code."
   ]
  },
  {
   "cell_type": "markdown",
   "metadata": {
    "slideshow": {
     "slide_type": "fragment"
    }
   },
   "source": [
    "* Next we enumerate the plans in the above space by changing the maximum cluster size $\\lambda$. For each $P_{\\lambda}$ we approximate the cost of the plan using our cost approximation method."
   ]
  },
  {
   "cell_type": "markdown",
   "metadata": {
    "slideshow": {
     "slide_type": "fragment"
    }
   },
   "source": [
    "* Finally we pick the plan $P_{\\lambda^*}$ with the lowest cost and execute it; i.e. run $\\lambda$HAC with maximum cluster size $\\lambda^*$ and then ask the user to clean up the resulting clusters."
   ]
  },
  {
   "cell_type": "markdown",
   "metadata": {
    "slideshow": {
     "slide_type": "slide"
    }
   },
   "source": [
    "# Demo Time!"
   ]
  }
 ],
 "metadata": {
  "celltoolbar": "Slideshow",
  "hide_input": false,
  "kernelspec": {
   "display_name": "Python [Root]",
   "language": "python",
   "name": "Python [Root]"
  },
  "language_info": {
   "codemirror_mode": {
    "name": "ipython",
    "version": 2
   },
   "file_extension": ".py",
   "mimetype": "text/x-python",
   "name": "python",
   "nbconvert_exporter": "python",
   "pygments_lexer": "ipython2",
   "version": "2.7.12"
  },
  "nbpresent": {
   "slides": {
    "1db6bdc1-cf2b-4b0a-8735-0e3ca857861e": {
     "id": "1db6bdc1-cf2b-4b0a-8735-0e3ca857861e",
     "layout": "grid",
     "prev": null,
     "regions": {
      "77317f72-76fc-43a3-a2e8-99bb52c3fa56": {
       "attrs": {
        "height": 1,
        "pad": 0.01,
        "treemap:weight": 1,
        "width": 1,
        "x": 0,
        "y": 0
       },
       "content": {
        "cell": "0711290d-a53d-4dbf-a5d2-b1d898b20c9e",
        "part": "source"
       },
       "id": "77317f72-76fc-43a3-a2e8-99bb52c3fa56"
      }
     }
    },
    "9516a4f7-b89c-43b0-9c23-7fe5b17bb17f": {
     "id": "9516a4f7-b89c-43b0-9c23-7fe5b17bb17f",
     "prev": "1db6bdc1-cf2b-4b0a-8735-0e3ca857861e",
     "regions": {
      "29ce4f8b-8332-4e6d-97f6-4b941be0dbe1": {
       "attrs": {
        "height": 1,
        "width": 1,
        "x": 0,
        "y": 0
       },
       "content": {
        "cell": "21b3c6d2-6a1e-4d22-95ee-429b10c691d5",
        "part": "source"
       },
       "id": "29ce4f8b-8332-4e6d-97f6-4b941be0dbe1"
      }
     }
    },
    "cb78bf2d-a826-4a76-a53c-bec80ad42d5c": {
     "id": "cb78bf2d-a826-4a76-a53c-bec80ad42d5c",
     "prev": "9516a4f7-b89c-43b0-9c23-7fe5b17bb17f",
     "regions": {
      "397d5a2c-f25a-4822-9094-526936647778": {
       "attrs": {
        "height": 0.8000000000000002,
        "width": 0.45,
        "x": 0.05,
        "y": 0.10000000000000002
       },
       "content": {
        "cell": "90b822cd-bf0f-41d8-aea9-325ab6aea841",
        "part": "source"
       },
       "id": "397d5a2c-f25a-4822-9094-526936647778"
      },
      "ea03378a-0522-4d85-8fac-3485c49d00a4": {
       "attrs": {
        "height": 0.8000000000000002,
        "width": 0.45,
        "x": 0.5,
        "y": 0.10000000000000002
       },
       "content": {
        "cell": "0e0e77ab-9e49-4ce0-8ff6-6f4a74af6a4d",
        "part": "source"
       },
       "id": "ea03378a-0522-4d85-8fac-3485c49d00a4"
      }
     }
    }
   },
   "themes": {
    "default": "81ba2742-f57f-4328-b61f-970e3776ab51",
    "theme": {}
   }
  }
 },
 "nbformat": 4,
 "nbformat_minor": 0
}
