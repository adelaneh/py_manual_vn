{
 "cells": [
  {
   "cell_type": "markdown",
   "metadata": {},
   "source": [
    "# Manual Value Normalization\n",
    "\n",
    "This notebook will cover using the py_valuenormalization package to manually normalize a set of values. \n",
    "\n",
    "To use this package, first import it by running the following python command:"
   ]
  },
  {
   "cell_type": "code",
   "execution_count": null,
   "metadata": {
    "collapsed": true
   },
   "outputs": [],
   "source": [
    "import py_valuenormalization as vn"
   ]
  },
  {
   "cell_type": "markdown",
   "metadata": {},
   "source": [
    "Now load your data values into a list. We have prepared 4 datasets in the following files:"
   ]
  },
  {
   "cell_type": "code",
   "execution_count": null,
   "metadata": {
    "collapsed": false
   },
   "outputs": [],
   "source": [
    "tt = !ls -1 ../py_valuenormalization/data/\n",
    "tt"
   ]
  },
  {
   "cell_type": "markdown",
   "metadata": {},
   "source": [
    "Each file contains values to be normalized, one data value per line. Each of these datasets can be loaded using the following commands (here we load ```big_ten.txt```):"
   ]
  },
  {
   "cell_type": "code",
   "execution_count": null,
   "metadata": {
    "collapsed": false
   },
   "outputs": [],
   "source": [
    "vals = vn.read_from_file('../py_valuenormalization/data/big_ten.txt')\n",
    "\n",
    "from random import sample\n",
    "\n",
    "sample(vals, 10)"
   ]
  },
  {
   "cell_type": "markdown",
   "metadata": {},
   "source": [
    "Now run the following command to start manually normalizing the input values. This will open the value normalization application which gives you instructions on how to normalize the input values."
   ]
  },
  {
   "cell_type": "code",
   "execution_count": null,
   "metadata": {
    "collapsed": false
   },
   "outputs": [],
   "source": [
    "(clean_clusts, _) = vn.normalize_values(vals)"
   ]
  },
  {
   "cell_type": "markdown",
   "metadata": {
    "collapsed": false
   },
   "source": [
    "Finally when you finish the normalization process and close the above application, the normalization results are returned in the variable ```clean_clusts```: it is a dictionary where each key is the label of a cluster of data values, and the corresponding value is the set of data values in this cluster. To see a snippet of the results, run the following command:"
   ]
  },
  {
   "cell_type": "code",
   "execution_count": null,
   "metadata": {
    "collapsed": false
   },
   "outputs": [],
   "source": [
    "[(kk,vv) for (kk, vv) in clean_clusts.items()][:10]"
   ]
  }
 ],
 "metadata": {
  "kernelspec": {
   "display_name": "Python [Root]",
   "language": "python",
   "name": "Python [Root]"
  },
  "language_info": {
   "codemirror_mode": {
    "name": "ipython",
    "version": 2
   },
   "file_extension": ".py",
   "mimetype": "text/x-python",
   "name": "python",
   "nbconvert_exporter": "python",
   "pygments_lexer": "ipython2",
   "version": "2.7.12"
  }
 },
 "nbformat": 4,
 "nbformat_minor": 0
}
