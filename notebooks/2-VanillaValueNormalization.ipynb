{
 "cells": [
  {
   "cell_type": "markdown",
   "metadata": {},
   "source": [
    "# Clustering-based Value Normalization (Vanilla Clustering)\n",
    "\n",
    "This notebook will cover using the ```py_valuenormalization``` package to cluster a set of values using a vanilla clustering algorithm and then clean up the resulting clusters.\n",
    "\n",
    "To use this package, first import it by running the following python command:"
   ]
  },
  {
   "cell_type": "code",
   "execution_count": null,
   "metadata": {
    "collapsed": true
   },
   "outputs": [],
   "source": [
    "import py_valuenormalization as vn"
   ]
  },
  {
   "cell_type": "markdown",
   "metadata": {},
   "source": [
    "Now load your data values into a list. We have prepared 4 datasets in the following files:"
   ]
  },
  {
   "cell_type": "code",
   "execution_count": null,
   "metadata": {
    "collapsed": false
   },
   "outputs": [],
   "source": [
    "tt = !ls -1 ../py_valuenormalization/data/\n",
    "tt"
   ]
  },
  {
   "cell_type": "markdown",
   "metadata": {},
   "source": [
    "Each file contains values to be normalized, one data value per line. Each of these datasets can be loaded using the following commands (here we load ```big_ten.txt```):"
   ]
  },
  {
   "cell_type": "code",
   "execution_count": null,
   "metadata": {
    "collapsed": false
   },
   "outputs": [],
   "source": [
    "vals = vn.read_from_file('../py_valuenormalization/data/big_ten.txt')\n",
    "\n",
    "from random import sample\n",
    "\n",
    "sample(vals, 10)"
   ]
  },
  {
   "cell_type": "markdown",
   "metadata": {},
   "source": [
    "Now we cluster the input values using a vanilla hierarchical agglomerative clustering (HAC) algorithm:"
   ]
  },
  {
   "cell_type": "code",
   "execution_count": null,
   "metadata": {
    "collapsed": true
   },
   "outputs": [],
   "source": [
    "hac = vn.HierarchicalClustering(vals)\n",
    "\n",
    "clusts = hac.cluster(\n",
    "    sim_measure = '3gram Jaccard', \n",
    "    linkage = 'single', \n",
    "    thr = 0.7\n",
    ")"
   ]
  },
  {
   "cell_type": "markdown",
   "metadata": {},
   "source": [
    "where ```vals``` is the set of input values, ```sim_measure```, ```linkage``` and ```thr``` are standard HAC parameters, and ```clusts``` is a dictionary where each key is the label of a cluster of ```vals``` values, and the corresponding value is the set of data values in this cluster.\n",
    "\n",
    "Let's take a peak at the resulting clusters:"
   ]
  },
  {
   "cell_type": "code",
   "execution_count": null,
   "metadata": {
    "collapsed": false
   },
   "outputs": [],
   "source": [
    "[(kk,vv) for (kk, vv) in clusts.items()][:10]"
   ]
  },
  {
   "cell_type": "markdown",
   "metadata": {},
   "source": [
    "Now if there are any mixed clusters in ```clusts```, you can clean them up to arrive at the correct clustering of the input values. This phase consists of two main steps:\n",
    "\n",
    "1. Split step, where you split clusters containing values referring to more than one real-world entity into smaller clusters each of which contains values referring to a single entity\n",
    "2. Merge steps, in which you merge clusters referring to the same entity\n",
    "\n",
    "To clean up the clustering results run the following command:"
   ]
  },
  {
   "cell_type": "code",
   "execution_count": null,
   "metadata": {
    "collapsed": true
   },
   "outputs": [],
   "source": [
    "clean_clusts = vn.normalize_clusters(clusts)"
   ]
  },
  {
   "cell_type": "markdown",
   "metadata": {},
   "source": [
    "where ```clusts``` is a dictionary where each key is the label of a cluster of data values, and the corresponding value is the set of data values in this cluster. This will open a graphical user interface to clean up ```clusts``` and the results with be returned in ```clean_clusts``` which is a dictionary where each key is the label of a cluster of data values, and the corresponding value is the set of data values in this cluster.\n",
    "\n",
    "Let's take a peak at the final clusters:"
   ]
  },
  {
   "cell_type": "code",
   "execution_count": null,
   "metadata": {
    "collapsed": false
   },
   "outputs": [],
   "source": [
    "[(kk,vv) for (kk, vv) in clean_clusts.items()][:10]"
   ]
  }
 ],
 "metadata": {
  "kernelspec": {
   "display_name": "Python [Root]",
   "language": "python",
   "name": "Python [Root]"
  },
  "language_info": {
   "codemirror_mode": {
    "name": "ipython",
    "version": 2
   },
   "file_extension": ".py",
   "mimetype": "text/x-python",
   "name": "python",
   "nbconvert_exporter": "python",
   "pygments_lexer": "ipython2",
   "version": "2.7.12"
  }
 },
 "nbformat": 4,
 "nbformat_minor": 0
}
