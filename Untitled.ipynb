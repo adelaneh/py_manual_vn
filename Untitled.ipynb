{
 "cells": [
  {
   "cell_type": "code",
   "execution_count": 100,
   "metadata": {
    "collapsed": false
   },
   "outputs": [],
   "source": [
    "import py_valuenormalization as vn"
   ]
  },
  {
   "cell_type": "code",
   "execution_count": 101,
   "metadata": {
    "collapsed": true
   },
   "outputs": [],
   "source": [
    "vals = [ 'Sony', 'Audeze', 'Beats', '66Audio', 'Soundpeats', 'Soundintone']"
   ]
  },
  {
   "cell_type": "code",
   "execution_count": 102,
   "metadata": {
    "collapsed": false
   },
   "outputs": [],
   "source": [
    "training_pairs = {(\"Sony\",\"Audeze\"): False, (\"Sony\",\"Beats\"): False, (\"Sony\",\"66Audio\"): False, (\"Sony\",\"Soundpeats\"): False, (\"Sony\",\"Soundintone\"): False,\n",
    " (\"Audeze\",\"Beats\"): False, (\"Audeze\",\"66Audio\"): True, (\"Audeze\",\"Soundpeats\"): False, (\"Audeze\",\"Soundintone\"): False,\n",
    " (\"Beats\",\"66Audio\"): False, (\"Beats\",\"Soundpeats\"): True, (\"Beats\",\"Soundintone\"): False,\n",
    " (\"66Audio\",\"Soundpeats\"): False, (\"66Audio\",\"Soundintone\"): False,\n",
    " (\"Soundpeats\",\"Soundintone\"): True\n",
    "}"
   ]
  },
  {
   "cell_type": "code",
   "execution_count": 103,
   "metadata": {
    "collapsed": false
   },
   "outputs": [],
   "source": [
    "smhac = vn.SmartClustering(vals,training_pairs)"
   ]
  },
  {
   "cell_type": "code",
   "execution_count": 130,
   "metadata": {
    "collapsed": false
   },
   "outputs": [],
   "source": [
    "dists = smhac.calc_dists('Jaro-Winkler')"
   ]
  },
  {
   "cell_type": "code",
   "execution_count": 131,
   "metadata": {
    "collapsed": false
   },
   "outputs": [
    {
     "data": {
      "text/plain": [
       "{frozenset({'Beats', 'Soundpeats'}): 1.0,\n",
       " frozenset({'66Audio', 'Soundintone'}): 0.35497835497835506,\n",
       " frozenset({'66Audio', 'Sony'}): 1.0,\n",
       " frozenset({'Sony', 'Soundpeats'}): 0.2533333333333334,\n",
       " frozenset({'66Audio', 'Beats'}): 1.0,\n",
       " frozenset({'Soundintone', 'Soundpeats'}): 0.16129870129870127,\n",
       " frozenset({'Beats', 'Sony'}): 1.0,\n",
       " frozenset({'Audeze', 'Soundpeats'}): 0.4,\n",
       " frozenset({'Sony', 'Soundintone'}): 0.2606060606060606,\n",
       " frozenset({'Audeze', 'Beats'}): 0.5444444444444445,\n",
       " frozenset({'66Audio', 'Soundpeats'}): 0.5047619047619047,\n",
       " frozenset({'Audeze', 'Soundintone'}): 0.4949494949494949,\n",
       " frozenset({'66Audio', 'Audeze'}): 0.3571428571428571,\n",
       " frozenset({'Beats', 'Soundintone'}): 0.5696969696969696,\n",
       " frozenset({'Audeze', 'Sony'}): 1.0}"
      ]
     },
     "execution_count": 131,
     "metadata": {},
     "output_type": "execute_result"
    }
   ],
   "source": [
    "dists\n"
   ]
  },
  {
   "cell_type": "code",
   "execution_count": 148,
   "metadata": {
    "collapsed": false
   },
   "outputs": [],
   "source": [
    "dend = smhac.create_dendrogram(precalc_dists = dists, linkage = 'average')"
   ]
  },
  {
   "cell_type": "code",
   "execution_count": 149,
   "metadata": {
    "collapsed": false
   },
   "outputs": [
    {
     "data": {
      "text/plain": [
       "[((['Soundpeats'], ['Soundintone']), 0.16129870129870127),\n",
       " ((['Soundpeats', 'Soundintone'], ['Sony']), 0.2557575757575758),\n",
       " ((['Audeze'], ['66Audio']), 0.3571428571428571),\n",
       " ((['Soundpeats', 'Soundintone', 'Sony'], ['Audeze', '66Audio']),\n",
       "  0.5795334295334295),\n",
       " ((['Soundpeats', 'Soundintone', 'Sony', 'Audeze', '66Audio'], ['Beats']),\n",
       "  0.8363876863876863)]"
      ]
     },
     "execution_count": 149,
     "metadata": {},
     "output_type": "execute_result"
    }
   ],
   "source": [
    "dend"
   ]
  },
  {
   "cell_type": "code",
   "execution_count": 153,
   "metadata": {
    "collapsed": false
   },
   "outputs": [],
   "source": [
    "vtc = smhac.lambdahac_dendrogram(dend = dend, thr = 0.4)"
   ]
  },
  {
   "cell_type": "code",
   "execution_count": 154,
   "metadata": {
    "collapsed": false
   },
   "outputs": [
    {
     "data": {
      "text/plain": [
       "{'66Audio': 5,\n",
       " 'Audeze': 5,\n",
       " 'Beats': 4,\n",
       " 'Sony': 1,\n",
       " 'Soundintone': 1,\n",
       " 'Soundpeats': 1}"
      ]
     },
     "execution_count": 154,
     "metadata": {},
     "output_type": "execute_result"
    }
   ],
   "source": [
    "vtc"
   ]
  },
  {
   "cell_type": "code",
   "execution_count": 155,
   "metadata": {
    "collapsed": false
   },
   "outputs": [
    {
     "data": {
      "text/plain": [
       "(12.0, 15, 0.8)"
      ]
     },
     "execution_count": 155,
     "metadata": {},
     "output_type": "execute_result"
    }
   ],
   "source": [
    "agrscore = smhac.calc_agreement_score()\n",
    "agrscore"
   ]
  },
  {
   "cell_type": "code",
   "execution_count": 294,
   "metadata": {
    "collapsed": false
   },
   "outputs": [
    {
     "data": {
      "text/plain": [
       "{'Amber restaurant': 2,\n",
       " 'Bombay bazaar': 6,\n",
       " 'Haldis cafe': 2,\n",
       " 'Haldis restaurant': 2,\n",
       " 'India house': 2,\n",
       " 'Indian cuisine': 2,\n",
       " 'Tulsi': 1}"
      ]
     },
     "execution_count": 294,
     "metadata": {},
     "output_type": "execute_result"
    }
   ],
   "source": [
    "dend"
   ]
  },
  {
   "cell_type": "code",
   "execution_count": 295,
   "metadata": {
    "collapsed": true
   },
   "outputs": [],
   "source": [
    "(clusters, maxclustsize) = hybhac.cluster(sim_measure = 'Jaro-Winkler', thr = 0.5, max_clust_size = 5)"
   ]
  },
  {
   "cell_type": "code",
   "execution_count": 296,
   "metadata": {
    "collapsed": false
   },
   "outputs": [
    {
     "data": {
      "text/plain": [
       "{'Amber restaurant': ['Amber restaurant',\n",
       "  'Haldis cafe',\n",
       "  'Haldis restaurant',\n",
       "  'India house',\n",
       "  'Indian cuisine'],\n",
       " 'Bombay bazaar': ['Bombay bazaar'],\n",
       " 'Tulsi': ['Tulsi']}"
      ]
     },
     "execution_count": 296,
     "metadata": {},
     "output_type": "execute_result"
    }
   ],
   "source": [
    "clusters"
   ]
  },
  {
   "cell_type": "code",
   "execution_count": 297,
   "metadata": {
    "collapsed": false
   },
   "outputs": [
    {
     "data": {
      "text/plain": [
       "5"
      ]
     },
     "execution_count": 297,
     "metadata": {},
     "output_type": "execute_result"
    }
   ],
   "source": [
    "maxclustsize"
   ]
  },
  {
   "cell_type": "code",
   "execution_count": 33,
   "metadata": {
    "collapsed": false
   },
   "outputs": [
    {
     "ename": "NameError",
     "evalue": "name 'a' is not defined",
     "output_type": "error",
     "traceback": [
      "\u001b[0;31m---------------------------------------------------------------------------\u001b[0m",
      "\u001b[0;31mNameError\u001b[0m                                 Traceback (most recent call last)",
      "\u001b[0;32m<ipython-input-33-995b8bf48f13>\u001b[0m in \u001b[0;36m<module>\u001b[0;34m()\u001b[0m\n\u001b[0;32m----> 1\u001b[0;31m \u001b[0mdict\u001b[0m \u001b[0;34m=\u001b[0m \u001b[0;34m{\u001b[0m\u001b[0;34m(\u001b[0m\u001b[0ma\u001b[0m\u001b[0;34m,\u001b[0m\u001b[0mb\u001b[0m\u001b[0;34m)\u001b[0m\u001b[0;34m:\u001b[0m \u001b[0;36m5\u001b[0m\u001b[0;34m,\u001b[0m \u001b[0;34m(\u001b[0m\u001b[0md\u001b[0m\u001b[0;34m,\u001b[0m\u001b[0mf\u001b[0m\u001b[0;34m)\u001b[0m\u001b[0;34m:\u001b[0m \u001b[0;36m7\u001b[0m\u001b[0;34m}\u001b[0m\u001b[0;34m\u001b[0m\u001b[0m\n\u001b[0m",
      "\u001b[0;31mNameError\u001b[0m: name 'a' is not defined"
     ]
    }
   ],
   "source": [
    "dict = {(a,b): 5, (d,f): 7}"
   ]
  },
  {
   "cell_type": "code",
   "execution_count": null,
   "metadata": {
    "collapsed": true
   },
   "outputs": [],
   "source": []
  }
 ],
 "metadata": {
  "kernelspec": {
   "display_name": "Python 2",
   "language": "python",
   "name": "python2"
  },
  "language_info": {
   "codemirror_mode": {
    "name": "ipython",
    "version": 2
   },
   "file_extension": ".py",
   "mimetype": "text/x-python",
   "name": "python",
   "nbconvert_exporter": "python",
   "pygments_lexer": "ipython2",
   "version": "2.7.13"
  }
 },
 "nbformat": 4,
 "nbformat_minor": 2
}
